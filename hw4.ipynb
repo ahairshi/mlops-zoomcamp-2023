{
  "nbformat": 4,
  "nbformat_minor": 0,
  "metadata": {
    "colab": {
      "provenance": []
    },
    "kernelspec": {
      "name": "python3",
      "display_name": "Python 3"
    }
  },
  "cells": [
    {
      "cell_type": "markdown",
      "source": [
        "# 1. Deployment as containers"
      ],
      "metadata": {
        "id": "JxANgJEGmAqc"
      }
    },
    {
      "cell_type": "markdown",
      "source": [
        "Download and preprocess data:"
      ],
      "metadata": {
        "id": "TjWoVYenm5W5"
      }
    },
    {
      "cell_type": "code",
      "source": [
        "import pickle\n",
        "import pandas as pd\n",
        "\n",
        "with open('model.bin', 'rb') as f_in:\n",
        "    dv, model = pickle.load(f_in)\n",
        "\n",
        "categorical = ['PULocationID', 'DOLocationID']\n",
        "\n",
        "def read_data(filename):\n",
        "    df = pd.read_parquet(filename)\n",
        "\n",
        "    df['duration'] = df.tpep_dropoff_datetime - df.tpep_pickup_datetime\n",
        "    df['duration'] = df.duration.dt.total_seconds() / 60\n",
        "\n",
        "    df = df[(df.duration >= 1) & (df.duration <= 60)].copy()\n",
        "\n",
        "    df[categorical] = df[categorical].fillna(-1).astype('int').astype('str')\n",
        "\n",
        "    return df"
      ],
      "metadata": {
        "id": "-YivkhytwAOF"
      },
      "execution_count": null,
      "outputs": []
    },
    {
      "cell_type": "code",
      "source": [
        "year, month = 2022, 2\n",
        "df = read_data(f'https://d37ci6vzurychx.cloudfront.net/trip-data/yellow_tripdata_{year}-0{month}.parquet')"
      ],
      "metadata": {
        "id": "bvvu9uzywVll"
      },
      "execution_count": null,
      "outputs": []
    },
    {
      "cell_type": "code",
      "source": [
        "dicts = df[categorical].to_dict(orient='records')\n",
        "X_val = dv.transform(dicts)\n",
        "y_pred = model.predict(X_val)"
      ],
      "metadata": {
        "id": "1UhzUZSZwfXf"
      },
      "execution_count": null,
      "outputs": []
    },
    {
      "cell_type": "markdown",
      "source": [
        "### Q1: Standard deviation of predicted duration"
      ],
      "metadata": {
        "id": "utx-gfqjDdhp"
      }
    },
    {
      "cell_type": "code",
      "source": [
        "import numpy as np\n",
        "np.std(y_pred)"
      ],
      "metadata": {
        "colab": {
          "base_uri": "https://localhost:8080/"
        },
        "id": "vCiT1QP4wvjy",
        "outputId": "e084cc50-3e2a-48e7-a0c8-c584071be881"
      },
      "execution_count": null,
      "outputs": [
        {
          "output_type": "execute_result",
          "data": {
            "text/plain": [
              "5.28140357655334"
            ]
          },
          "metadata": {},
          "execution_count": 15
        }
      ]
    },
    {
      "cell_type": "markdown",
      "source": [
        "### Q2: Preparing output parquet with pyarrow"
      ],
      "metadata": {
        "id": "3Xf0lEW3DjVI"
      }
    },
    {
      "cell_type": "code",
      "source": [
        "df['ride_id'] = f'{year:04d}/{month:02d}_' + df.index.astype('str')"
      ],
      "metadata": {
        "id": "uk9iDapo_lxK"
      },
      "execution_count": null,
      "outputs": []
    },
    {
      "cell_type": "code",
      "source": [
        "df_result = pd.DataFrame({'ride_id': df['ride_id'], 'predicted_duration': y_pred})"
      ],
      "metadata": {
        "id": "YyRnkitMFm_6"
      },
      "execution_count": null,
      "outputs": []
    },
    {
      "cell_type": "code",
      "source": [
        "output_file = 'data/2022-02-predictions.parquet'\n",
        "df_result.to_parquet(\n",
        "    output_file,\n",
        "    engine='pyarrow',\n",
        "    compression=None,\n",
        "    index=False\n",
        ")"
      ],
      "metadata": {
        "id": "wNM2lMZyEJb-"
      },
      "execution_count": null,
      "outputs": []
    },
    {
      "cell_type": "code",
      "source": [
        "!ls -lhtra data/*.parquet"
      ],
      "metadata": {
        "colab": {
          "base_uri": "https://localhost:8080/"
        },
        "id": "rExgvm1lNRJY",
        "outputId": "794de546-ced9-4091-c7bd-98a6ab30d562"
      },
      "execution_count": null,
      "outputs": [
        {
          "output_type": "stream",
          "name": "stdout",
          "text": [
            "-rw-r--r-- 1 root root 58M Jun 20 11:57 data/2022-02-predictions.parquet\n"
          ]
        }
      ]
    },
    {
      "cell_type": "markdown",
      "source": [
        "### Q3. Convert to script"
      ],
      "metadata": {
        "id": "Y9DxYFiUJJir"
      }
    },
    {
      "cell_type": "code",
      "source": [
        "!jupyter nbconvert --to python homework.ipynb"
      ],
      "metadata": {
        "id": "OK7QmJQrJIdP"
      },
      "execution_count": null,
      "outputs": []
    },
    {
      "cell_type": "markdown",
      "source": [
        "Note: I added a print mean statement for Q5 in the resulting `score.py` script."
      ],
      "metadata": {
        "id": "iO1gHVyuLm3i"
      }
    },
    {
      "cell_type": "markdown",
      "source": [
        "### Q4. Creating a virtual environment"
      ],
      "metadata": {
        "id": "dP6RMSCVK0oM"
      }
    },
    {
      "cell_type": "code",
      "source": [
        "!pip install --quiet pipenv"
      ],
      "metadata": {
        "colab": {
          "base_uri": "https://localhost:8080/"
        },
        "id": "qDytpyoOS4sM",
        "outputId": "b1e3e8e7-151a-4a5f-c200-a6b692fd2437"
      },
      "execution_count": null,
      "outputs": [
        {
          "output_type": "stream",
          "name": "stdout",
          "text": [
            "\u001b[2K     \u001b[90m━━━━━━━━━━━━━━━━━━━━━━━━━━━━━━━━━━━━━━━━\u001b[0m \u001b[32m2.9/2.9 MB\u001b[0m \u001b[31m16.5 MB/s\u001b[0m eta \u001b[36m0:00:00\u001b[0m\n",
            "\u001b[2K     \u001b[90m━━━━━━━━━━━━━━━━━━━━━━━━━━━━━━━━━━━━━━━━\u001b[0m \u001b[32m3.3/3.3 MB\u001b[0m \u001b[31m88.5 MB/s\u001b[0m eta \u001b[36m0:00:00\u001b[0m\n",
            "\u001b[2K     \u001b[90m━━━━━━━━━━━━━━━━━━━━━━━━━━━━━━━━━━━━━━\u001b[0m \u001b[32m468.5/468.5 kB\u001b[0m \u001b[31m37.7 MB/s\u001b[0m eta \u001b[36m0:00:00\u001b[0m\n",
            "\u001b[?25h"
          ]
        }
      ]
    },
    {
      "cell_type": "code",
      "source": [
        "!python3 -m pipenv install mlflow scikit-learn==1.2.2"
      ],
      "metadata": {
        "colab": {
          "base_uri": "https://localhost:8080/"
        },
        "id": "uDsSfdj1TX2g",
        "outputId": "48939c19-7b27-4310-cec2-b55c1d318176"
      },
      "execution_count": null,
      "outputs": [
        {
          "output_type": "stream",
          "name": "stdout",
          "text": [
            "\u001b[1mCreating a virtualenv for this project...\u001b[0m\n",
            "Pipfile: \u001b[33m\u001b[1m/content/mlops-zoomcamp/week4/Pipfile\u001b[0m\n",
            "\u001b[1mUsing default python from\u001b[0m \u001b[33m\u001b[1m/usr/bin/python3\u001b[0m \u001b[32m(3.10.12)\u001b[0m \u001b[1mto create virtualenv...\u001b[0m\n",
            "\u001b[2K\u001b[32m⠦\u001b[0m Creating virtual environment...\u001b[36mcreated virtual environment CPython3.10.12.final.0-64 in 1822ms\n",
            "  creator CPython3Posix(dest=/root/.local/share/virtualenvs/week4-C3sBiBYm, clear=False, no_vcs_ignore=False, global=False)\n",
            "  seeder FromAppData(download=False, pip=bundle, setuptools=bundle, wheel=bundle, via=copy, app_data_dir=/root/.local/share/virtualenv)\n",
            "    added seed packages: pip==23.1.2, setuptools==67.8.0, wheel==0.40.0\n",
            "  activators BashActivator,CShellActivator,FishActivator,NushellActivator,PowerShellActivator,PythonActivator\n",
            "\u001b[0m\n",
            "✔ Successfully created virtual environment!\n",
            "\u001b[2K\u001b[32m⠧\u001b[0m Creating virtual environment...\n",
            "\u001b[1A\u001b[2K\u001b[32mVirtualenv location: /root/.local/share/virtualenvs/week4-C3sBiBYm\u001b[0m\n",
            "\u001b[1mCreating a Pipfile for this project...\u001b[0m\n",
            "\u001b[32m\u001b[1mInstalling mlflow...\u001b[0m\n",
            "\u001b[?25lResolving mlflow\u001b[33m...\u001b[0m\n",
            "\u001b[2K\u001b[1mAdding \u001b[0m\u001b[1;32mmlflow\u001b[0m to Pipfile's \u001b[1;33m[\u001b[0m\u001b[33mpackages\u001b[0m\u001b[1;33m]\u001b[0m \u001b[33m...\u001b[0m\n",
            "\u001b[2K✔ Installation Succeeded\n",
            "\u001b[2K\u001b[32m⠋\u001b[0m Installing mlflow...\n",
            "\u001b[1A\u001b[2K\u001b[32m\u001b[1mInstalling scikit-learn==1.2.2...\u001b[0m\n",
            "\u001b[?25lResolving scikit-\u001b[33mlearn\u001b[0m==\u001b[1;36m1.2\u001b[0m.\u001b[1;36m2\u001b[0m\u001b[33m...\u001b[0m\n",
            "\u001b[2K\u001b[1mAdding \u001b[0m\u001b[1;32mscikit-learn\u001b[0m to Pipfile's \u001b[1;33m[\u001b[0m\u001b[33mpackages\u001b[0m\u001b[1;33m]\u001b[0m \u001b[33m...\u001b[0m\n",
            "\u001b[2K✔ Installation Succeeded\n",
            "\u001b[2K\u001b[32m⠋\u001b[0m Installing scikit-learn...\n",
            "\u001b[1A\u001b[2K\u001b[1mPipfile.lock not found, creating...\u001b[0m\n",
            "Locking\u001b[0m \u001b[33m[packages]\u001b[0m dependencies...\u001b[0m\n",
            "\u001b[?25lBuilding requirements\u001b[33m...\u001b[0m\n",
            "\u001b[2KResolving dependencies\u001b[33m...\u001b[0m\n",
            "\u001b[2K✔ Success!\n",
            "\u001b[2K\u001b[32m⠇\u001b[0m Locking...\n",
            "\u001b[1A\u001b[2KLocking\u001b[0m \u001b[33m[dev-packages]\u001b[0m dependencies...\u001b[0m\n",
            "\u001b[1mUpdated Pipfile.lock (3ea0b4f258ef3e9d99c0025841a151e70e32f799dbaa3499b94c9f843f46b86a)!\u001b[0m\n",
            "\u001b[1mInstalling dependencies from Pipfile.lock (46b86a)...\u001b[0m\n",
            "To activate this project's virtualenv, run \u001b[33mpipenv shell\u001b[0m.\n",
            "Alternatively, run a command inside the virtualenv with \u001b[33mpipenv run\u001b[0m.\n"
          ]
        }
      ]
    },
    {
      "cell_type": "markdown",
      "source": [
        "### Q5. Mean predicted duration for March 2022 Yellow dataset"
      ],
      "metadata": {
        "id": "VTfzJGD5YLGr"
      }
    },
    {
      "cell_type": "code",
      "source": [
        "!python3 -m pipenv run python score.py --year 2022 --month 3"
      ],
      "metadata": {
        "colab": {
          "base_uri": "https://localhost:8080/"
        },
        "id": "27ys4Xd0YR0x",
        "outputId": "ef52b0ef-ee54-4551-c0a3-3caaa554432c"
      },
      "execution_count": null,
      "outputs": [
        {
          "output_type": "stream",
          "name": "stdout",
          "text": [
            "Mean of predicted duration 2022-03: 12.758556818790902\n"
          ]
        }
      ]
    },
    {
      "cell_type": "markdown",
      "source": [
        "Note: had to change `models/model.bin` back to `model.bin` for next exercise, Dockerfile."
      ],
      "metadata": {
        "id": "qvfeKKy7aDnE"
      }
    },
    {
      "cell_type": "code",
      "source": [
        "# Just to check the difference between Docker\n",
        "!python3 -m pipenv run python score.py --year 2022 --month 4"
      ],
      "metadata": {
        "colab": {
          "base_uri": "https://localhost:8080/"
        },
        "id": "oEUT1moiu2_e",
        "outputId": "f7457efb-9176-47ec-a082-5f29c4402597"
      },
      "execution_count": null,
      "outputs": [
        {
          "output_type": "stream",
          "name": "stdout",
          "text": [
            "Mean of predicted duration 2022-04: 12.865128336784926\n"
          ]
        }
      ]
    },
    {
      "cell_type": "markdown",
      "source": [
        "### Q6. Mean of April 2022 Yellow dataset with Docker"
      ],
      "metadata": {
        "id": "XMRf0OW5dZf3"
      }
    },
    {
      "cell_type": "markdown",
      "source": [
        "Had to finish this task on local, here is the Dockerfile:\n",
        "```yaml\n",
        "FROM svizor/zoomcamp-model:mlops-3.10.0-slim\n",
        "\n",
        "WORKDIR /app\n",
        "RUN [\"mkdir\", \"data\"]\n",
        "\n",
        "RUN [\"pip\", \"install\", \"pipenv\"]\n",
        "COPY [ \"Pipfile\", \"Pipfile.lock\", \"./\" ]\n",
        "RUN pipenv install --system --deploy\n",
        "\n",
        "COPY notebooks/starter.py .\n",
        "ENTRYPOINT [\"python\", \"starter.py\"]\n",
        "```\n",
        "\n",
        "Then I executed\n",
        "```bash\n",
        "$ docker build --tag nyc_taxi_deploy:0.0.1 .\n",
        "[+] Building 54.6s (12/12) FINISHED\n",
        " => [internal] load build definition from Dockerfile                                                               0.0s\n",
        " => => transferring dockerfile: 291B                                                                               0.0s\n",
        " => [internal] load .dockerignore                                                                                  0.0s\n",
        " => => transferring context: 2B                                                                                    0.0s\n",
        " => [internal] load metadata for docker.io/svizor/zoomcamp-model:mlops-3.10.0-slim                                 1.9s\n",
        " => [internal] load build context                                                                                  0.0s\n",
        " => => transferring context: 90B                                                                                   0.0s\n",
        " => [1/7] FROM docker.io/svizor/zoomcamp-model:mlops-3.10.0-slim@sha256:595bf690875f5b9075550b61c609be10f05e69156  0.0s\n",
        " => CACHED [2/7] WORKDIR /app                                                                                      0.0s\n",
        " => [3/7] RUN [\"mkdir\", \"data\"]                                                                                    0.5s\n",
        " => [4/7] RUN [\"pip\", \"install\", \"pipenv\"]                                                                         6.5s\n",
        " => [5/7] COPY [ Pipfile, Pipfile.lock, ./ ]                                                                       0.0s\n",
        " => [6/7] RUN pipenv install --system --deploy                                                                    40.8s\n",
        " => [7/7] COPY score.py .                                                                                          0.0s\n",
        " => exporting to image                                                                                             4.6s\n",
        " => => exporting layers                                                                                            4.6s\n",
        " => => writing image sha256:5e2a2ef27ac4bc4a1c4b4a4c0c10c0dbcc6baec7d767a5ff0764bb19757dae25                       0.0s\n",
        " => => naming to docker.io/library/nyc_taxi_deploy:0.0.1                                                           0.0s\n",
        "$ docker run --rm --name nyc_taxi nyc_taxi_deploy:0.0.1 --year=2022 --month=4\n",
        "Mean of predicted duration 2022-04: 12.827242870079969\n",
        "```\n",
        "We see the result is indeed closer to the answer."
      ],
      "metadata": {
        "id": "anF2Q-oFnuAC"
      }
    }
  ]
}
